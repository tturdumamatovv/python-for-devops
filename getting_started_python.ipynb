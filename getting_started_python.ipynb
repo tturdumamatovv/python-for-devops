{
  "nbformat": 4,
  "nbformat_minor": 0,
  "metadata": {
    "colab": {
      "provenance": [],
      "authorship_tag": "ABX9TyNUQaF60BTt7OEEETy+eAJC",
      "include_colab_link": true
    },
    "kernelspec": {
      "name": "python3",
      "display_name": "Python 3"
    },
    "language_info": {
      "name": "python"
    },
    "gpuClass": "standard"
  },
  "cells": [
    {
      "cell_type": "markdown",
      "metadata": {
        "id": "view-in-github",
        "colab_type": "text"
      },
      "source": [
        "<a href=\"https://colab.research.google.com/github/tturdumamatovv/python-for-devops/blob/main/getting_started_python.ipynb\" target=\"_parent\"><img src=\"https://colab.research.google.com/assets/colab-badge.svg\" alt=\"Open In Colab\"/></a>"
      ]
    },
    {
      "cell_type": "markdown",
      "source": [
        "## Introduction to Python \n"
      ],
      "metadata": {
        "id": "dFgRLBoyATU6"
      }
    },
    {
      "cell_type": "markdown",
      "source": [
        "### Statement in Python\n"
      ],
      "metadata": {
        "id": "ne26lNLyAqBa"
      }
    },
    {
      "cell_type": "markdown",
      "source": [
        "#### List"
      ],
      "metadata": {
        "id": "sTbbN-KdCMB8"
      }
    },
    {
      "cell_type": "code",
      "execution_count": 1,
      "metadata": {
        "id": "yYAtpzZ6-zmF",
        "outputId": "63a2b95c-ff71-4087-cdbd-230e2cd2aa50",
        "colab": {
          "base_uri": "https://localhost:8080/"
        }
      },
      "outputs": [
        {
          "output_type": "stream",
          "name": "stdout",
          "text": [
            "Hello World\n"
          ]
        }
      ],
      "source": [
        "print('Hello World')"
      ]
    },
    {
      "cell_type": "code",
      "source": [
        "name = 'Bob'\n",
        "print(f'hello {name}')"
      ],
      "metadata": {
        "id": "AtN8uPThBD06",
        "outputId": "a3b400d6-7410-4f9d-e64c-5e113c373d94",
        "colab": {
          "base_uri": "https://localhost:8080/"
        }
      },
      "execution_count": 2,
      "outputs": [
        {
          "output_type": "stream",
          "name": "stdout",
          "text": [
            "hello Bob\n"
          ]
        }
      ]
    },
    {
      "cell_type": "markdown",
      "source": [
        "### Datastructures: Lists and Dictionaries "
      ],
      "metadata": {
        "id": "Bhb9WMh3BUUI"
      }
    },
    {
      "cell_type": "code",
      "source": [
        "fruit = ['apple', 'pear', 'strawberry']"
      ],
      "metadata": {
        "id": "uhFLcHmqBgVS"
      },
      "execution_count": 3,
      "outputs": []
    },
    {
      "cell_type": "code",
      "source": [
        "type(fruit)"
      ],
      "metadata": {
        "id": "K9dmKdD5BvLV",
        "outputId": "ad94e7cd-5b86-471d-da9a-c54adf276800",
        "colab": {
          "base_uri": "https://localhost:8080/"
        }
      },
      "execution_count": 4,
      "outputs": [
        {
          "output_type": "execute_result",
          "data": {
            "text/plain": [
              "list"
            ]
          },
          "metadata": {},
          "execution_count": 4
        }
      ]
    },
    {
      "cell_type": "code",
      "source": [
        "fruit[0]"
      ],
      "metadata": {
        "id": "ezUtHH7-B1X1",
        "outputId": "69100dd8-32a7-4e6f-b7c4-48e4e2397d8c",
        "colab": {
          "base_uri": "https://localhost:8080/",
          "height": 35
        }
      },
      "execution_count": 5,
      "outputs": [
        {
          "output_type": "execute_result",
          "data": {
            "text/plain": [
              "'apple'"
            ],
            "application/vnd.google.colaboratory.intrinsic+json": {
              "type": "string"
            }
          },
          "metadata": {},
          "execution_count": 5
        }
      ]
    },
    {
      "cell_type": "code",
      "source": [
        "fruit[:-1]"
      ],
      "metadata": {
        "id": "OVq9y2lCB4ah",
        "outputId": "07b5fd81-451f-40f1-8277-262710d8560c",
        "colab": {
          "base_uri": "https://localhost:8080/"
        }
      },
      "execution_count": 7,
      "outputs": [
        {
          "output_type": "execute_result",
          "data": {
            "text/plain": [
              "['apple', 'pear']"
            ]
          },
          "metadata": {},
          "execution_count": 7
        }
      ]
    },
    {
      "cell_type": "code",
      "source": [
        "for my_fruit in fruit:\n",
        "  print(f'This is my favorite fruit: {my_fruit}')"
      ],
      "metadata": {
        "id": "XSXjYMUNB8W6",
        "outputId": "9501337a-f478-4a55-c376-d77ea58f4d72",
        "colab": {
          "base_uri": "https://localhost:8080/"
        }
      },
      "execution_count": 8,
      "outputs": [
        {
          "output_type": "stream",
          "name": "stdout",
          "text": [
            "This is my favorite fruit: apple\n",
            "This is my favorite fruit: pear\n",
            "This is my favorite fruit: strawberry\n"
          ]
        }
      ]
    },
    {
      "cell_type": "markdown",
      "source": [
        "#### Dictionary "
      ],
      "metadata": {
        "id": "oeu2LisPCPFl"
      }
    },
    {
      "cell_type": "code",
      "source": [
        "meal = {'breakfast': 'black coffee', 'lunch': 'salad', 'dinner': 'steak'}"
      ],
      "metadata": {
        "id": "pathVE22CVoF"
      },
      "execution_count": 9,
      "outputs": []
    },
    {
      "cell_type": "code",
      "source": [
        "meal.keys()"
      ],
      "metadata": {
        "id": "CcLrlZF9C4Lm",
        "outputId": "d392a4c0-9ce6-4c21-b22d-a56a160b0c7f",
        "colab": {
          "base_uri": "https://localhost:8080/"
        }
      },
      "execution_count": 10,
      "outputs": [
        {
          "output_type": "execute_result",
          "data": {
            "text/plain": [
              "dict_keys(['breakfast', 'lunch', 'dinner'])"
            ]
          },
          "metadata": {},
          "execution_count": 10
        }
      ]
    },
    {
      "cell_type": "code",
      "source": [
        "meal.values()\n"
      ],
      "metadata": {
        "id": "UA5_fcRPC7Wn",
        "outputId": "717f1804-0913-4ec5-dbed-ec82ac1ff2be",
        "colab": {
          "base_uri": "https://localhost:8080/"
        }
      },
      "execution_count": 11,
      "outputs": [
        {
          "output_type": "execute_result",
          "data": {
            "text/plain": [
              "dict_values(['black coffee', 'salad', 'steak'])"
            ]
          },
          "metadata": {},
          "execution_count": 11
        }
      ]
    },
    {
      "cell_type": "code",
      "source": [
        "for meal_name, meal_item in meal.items():\n",
        "  print(f'This meal {meal_name} is when i like to consume {meal_item}')"
      ],
      "metadata": {
        "id": "usX2f7YUDBaY",
        "outputId": "9386d611-1fe0-4c16-8a64-c5ae172153aa",
        "colab": {
          "base_uri": "https://localhost:8080/"
        }
      },
      "execution_count": 12,
      "outputs": [
        {
          "output_type": "stream",
          "name": "stdout",
          "text": [
            "This meal breakfast is when i like to consume black coffee\n",
            "This meal lunch is when i like to consume salad\n",
            "This meal dinner is when i like to consume steak\n"
          ]
        }
      ]
    }
  ]
}